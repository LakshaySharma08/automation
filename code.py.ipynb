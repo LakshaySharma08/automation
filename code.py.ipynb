{
 "cells": [
  {
   "cell_type": "code",
   "execution_count": 70,
   "id": "356a4b11",
   "metadata": {},
   "outputs": [
    {
     "name": "stdout",
     "output_type": "stream",
     "text": [
      "Requirement already satisfied: selenium in c:\\users\\lakshay\\anaconda3\\lib\\site-packages (4.12.0)\n",
      "Requirement already satisfied: urllib3[socks]<3,>=1.26 in c:\\users\\lakshay\\anaconda3\\lib\\site-packages (from selenium) (1.26.16)\n",
      "Requirement already satisfied: trio~=0.17 in c:\\users\\lakshay\\anaconda3\\lib\\site-packages (from selenium) (0.22.2)\n",
      "Requirement already satisfied: trio-websocket~=0.9 in c:\\users\\lakshay\\anaconda3\\lib\\site-packages (from selenium) (0.10.4)\n",
      "Requirement already satisfied: certifi>=2021.10.8 in c:\\users\\lakshay\\anaconda3\\lib\\site-packages (from selenium) (2023.7.22)\n",
      "Requirement already satisfied: attrs>=20.1.0 in c:\\users\\lakshay\\appdata\\roaming\\python\\python39\\site-packages (from trio~=0.17->selenium) (23.1.0)\n",
      "Requirement already satisfied: sortedcontainers in c:\\users\\lakshay\\anaconda3\\lib\\site-packages (from trio~=0.17->selenium) (2.4.0)\n",
      "Requirement already satisfied: idna in c:\\users\\lakshay\\anaconda3\\lib\\site-packages (from trio~=0.17->selenium) (3.4)\n",
      "Requirement already satisfied: outcome in c:\\users\\lakshay\\anaconda3\\lib\\site-packages (from trio~=0.17->selenium) (1.2.0)\n",
      "Requirement already satisfied: sniffio in c:\\users\\lakshay\\appdata\\roaming\\python\\python39\\site-packages (from trio~=0.17->selenium) (1.3.0)\n",
      "Requirement already satisfied: cffi>=1.14 in c:\\users\\lakshay\\anaconda3\\lib\\site-packages (from trio~=0.17->selenium) (1.15.1)\n",
      "Requirement already satisfied: exceptiongroup>=1.0.0rc9 in c:\\users\\lakshay\\appdata\\roaming\\python\\python39\\site-packages (from trio~=0.17->selenium) (1.1.3)\n",
      "Requirement already satisfied: wsproto>=0.14 in c:\\users\\lakshay\\anaconda3\\lib\\site-packages (from trio-websocket~=0.9->selenium) (1.2.0)\n",
      "Requirement already satisfied: PySocks!=1.5.7,<2.0,>=1.5.6 in c:\\users\\lakshay\\anaconda3\\lib\\site-packages (from urllib3[socks]<3,>=1.26->selenium) (1.7.1)\n",
      "Requirement already satisfied: pycparser in c:\\users\\lakshay\\anaconda3\\lib\\site-packages (from cffi>=1.14->trio~=0.17->selenium) (2.21)\n",
      "Requirement already satisfied: h11<1,>=0.9.0 in c:\\users\\lakshay\\anaconda3\\lib\\site-packages (from wsproto>=0.14->trio-websocket~=0.9->selenium) (0.14.0)\n"
     ]
    },
    {
     "name": "stderr",
     "output_type": "stream",
     "text": [
      "WARNING: Ignoring invalid distribution -illow (c:\\users\\lakshay\\appdata\\roaming\\python\\python39\\site-packages)\n",
      "WARNING: Ignoring invalid distribution -illow (c:\\users\\lakshay\\appdata\\roaming\\python\\python39\\site-packages)\n",
      "WARNING: Ignoring invalid distribution -illow (c:\\users\\lakshay\\appdata\\roaming\\python\\python39\\site-packages)\n",
      "WARNING: Ignoring invalid distribution -illow (c:\\users\\lakshay\\appdata\\roaming\\python\\python39\\site-packages)\n"
     ]
    }
   ],
   "source": [
    "!pip install selenium"
   ]
  },
  {
   "cell_type": "code",
   "execution_count": 138,
   "id": "227ae0b0",
   "metadata": {},
   "outputs": [
    {
     "name": "stdout",
     "output_type": "stream",
     "text": [
      "Hello\n"
     ]
    }
   ],
   "source": [
    "from selenium import webdriver\n",
    "from selenium.webdriver.common.by import By\n",
    "from selenium.webdriver.support.ui import Select\n",
    "print(\"Hello\")"
   ]
  },
  {
   "cell_type": "code",
   "execution_count": 122,
   "id": "7d069e19",
   "metadata": {},
   "outputs": [],
   "source": [
    "browser = webdriver.Chrome(\"\")\n",
    "browser.get(\"https://codeforces.com/enter?back=%2F\")"
   ]
  },
  {
   "cell_type": "code",
   "execution_count": 123,
   "id": "e0aa26e1",
   "metadata": {},
   "outputs": [],
   "source": [
    "username_element = browser.find_element(\"id\",\"handleOrEmail\")\n",
    "username_element.send_keys(\"lakshaysharmadav1@gmail.com\")"
   ]
  },
  {
   "cell_type": "code",
   "execution_count": 124,
   "id": "f11c1eaf",
   "metadata": {},
   "outputs": [],
   "source": [
    "password_element = browser.find_element(\"id\",\"password\")"
   ]
  },
  {
   "cell_type": "code",
   "execution_count": 125,
   "id": "a25019ca",
   "metadata": {},
   "outputs": [],
   "source": [
    "from getpass import getpass"
   ]
  },
  {
   "cell_type": "code",
   "execution_count": 126,
   "id": "c1803ff3",
   "metadata": {},
   "outputs": [
    {
     "name": "stdout",
     "output_type": "stream",
     "text": [
      "Enter password:········\n"
     ]
    }
   ],
   "source": [
    "password_element.send_keys(getpass(\"Enter password:\"))"
   ]
  },
  {
   "cell_type": "code",
   "execution_count": 130,
   "id": "0ebe0342",
   "metadata": {},
   "outputs": [],
   "source": [
    "sign_in_button = browser.find_element(By.CLASS_NAME, \"submit\")\n",
    "sign_in_button.click()"
   ]
  },
  {
   "cell_type": "code",
   "execution_count": 140,
   "id": "4d991c30",
   "metadata": {},
   "outputs": [],
   "source": [
    "browser.get(\"https://codeforces.com/contest/959/submit\")\n",
    "dropdown = browser.find_element(By.XPATH,\"//*[@name='submittedProblemIndex']\")\n",
    "select = Select(dropdown)\n",
    "select.select_by_index(1)"
   ]
  },
  {
   "cell_type": "code",
   "execution_count": 152,
   "id": "46397f3a",
   "metadata": {},
   "outputs": [],
   "source": [
    "with open(\"C:\\\\Users\\\\Lakshay\\\\Desktop\\\\Automated Submission on Codechef Project\\\\Solution.cpp\", \"r\") as f:\n",
    "    code = f.read()"
   ]
  },
  {
   "cell_type": "code",
   "execution_count": 153,
   "id": "385abb7d",
   "metadata": {},
   "outputs": [],
   "source": [
    "code_element = browser.find_element(\"id\", \"sourceCodeTextarea\")"
   ]
  },
  {
   "cell_type": "code",
   "execution_count": 154,
   "id": "f041a16e",
   "metadata": {},
   "outputs": [],
   "source": [
    "code_element.send_keys(code)"
   ]
  },
  {
   "cell_type": "code",
   "execution_count": 155,
   "id": "200e8597",
   "metadata": {},
   "outputs": [],
   "source": [
    "browser.find_element(\"id\", \"singlePageSubmitButton\").click()"
   ]
  },
  {
   "cell_type": "code",
   "execution_count": null,
   "id": "ebcafd54",
   "metadata": {},
   "outputs": [],
   "source": []
  }
 ],
 "metadata": {
  "kernelspec": {
   "display_name": "Python 3 (ipykernel)",
   "language": "python",
   "name": "python3"
  },
  "language_info": {
   "codemirror_mode": {
    "name": "ipython",
    "version": 3
   },
   "file_extension": ".py",
   "mimetype": "text/x-python",
   "name": "python",
   "nbconvert_exporter": "python",
   "pygments_lexer": "ipython3",
   "version": "3.9.17"
  }
 },
 "nbformat": 4,
 "nbformat_minor": 5
}
